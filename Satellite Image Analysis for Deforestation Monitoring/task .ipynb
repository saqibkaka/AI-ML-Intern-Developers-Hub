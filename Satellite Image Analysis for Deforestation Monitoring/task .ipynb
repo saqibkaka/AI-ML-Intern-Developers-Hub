{
 "cells": [
  {
   "cell_type": "code",
   "execution_count": 22,
   "id": "403df5fc",
   "metadata": {},
   "outputs": [],
   "source": [
    "import numpy as np\n",
    "import matplotlib.pyplot as plt\n",
    "import pandas as pd\n",
    "import seaborn as sns\n",
    "from sklearn.model_selection import train_test_split\n",
    "from sklearn.ensemble import RandomForestClassifier\n",
    "from sklearn.metrics import accuracy_score, confusion_matrix\n",
    "import cv2\n",
    "import os\n",
    "import streamlit as st\n",
    "from tensorflow.keras.models import load_model\n",
    "from PIL import Image"
   ]
  },
  {
   "cell_type": "code",
   "execution_count": 23,
   "id": "3eecf29d",
   "metadata": {},
   "outputs": [],
   "source": [
    "# --- Step 1: Load and Preprocess Images ---\n",
    "\n",
    "data_dir = \"D:/Internships/New folder/archive (3)\"\n",
    "img_size = 128  # Resize all images to 128x128\n",
    "categories = [\"deforestation\", \"no_deforestation\"]\n",
    "\n",
    "data = []\n",
    "labels = []\n",
    "\n",
    "for label, category in enumerate(categories):\n",
    "    path = os.path.join(data_dir, category)\n",
    "    for img_name in os.listdir(path):\n",
    "        img_path = os.path.join(path, img_name)\n",
    "        try:\n",
    "            img = cv2.imread(img_path)\n",
    "            img = cv2.resize(img, (img_size, img_size))\n",
    "            data.append(img)\n",
    "            labels.append(label)\n",
    "        except:\n",
    "            print(f\"Failed to load image: {img_path}\")\n",
    "\n",
    "data = np.array(data) / 255.0  # Normalize images\n",
    "labels = np.array(labels)\n"
   ]
  }
 ],
 "metadata": {
  "kernelspec": {
   "display_name": "base",
   "language": "python",
   "name": "python3"
  },
  "language_info": {
   "codemirror_mode": {
    "name": "ipython",
    "version": 3
   },
   "file_extension": ".py",
   "mimetype": "text/x-python",
   "name": "python",
   "nbconvert_exporter": "python",
   "pygments_lexer": "ipython3",
   "version": "3.11.7"
  }
 },
 "nbformat": 4,
 "nbformat_minor": 5
}
